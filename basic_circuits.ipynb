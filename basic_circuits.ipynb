{
 "cells": [
  {
   "cell_type": "code",
   "execution_count": 1,
   "metadata": {},
   "outputs": [],
   "source": [
    "from main import *\n",
    "\n",
    "c = Circuit()\n",
    "dc = DCVoltage(c, voltage=2)\n",
    "r1 = Resistor(c, resistance=100)\n",
    "r2 = Resistor(c, resistance=10)\n",
    "r3 = Resistor(c, resistance=50)\n",
    "\n",
    "ground(dc.neg, r2, r3)\n",
    "connect(dc.pos, r1)\n",
    "div = connect(r1, r2, r3)"
   ]
  },
  {
   "cell_type": "code",
   "execution_count": 2,
   "metadata": {},
   "outputs": [
    {
     "name": "stdout",
     "output_type": "stream",
     "text": [
      "Ignoring type i\n",
      "0.15384615384615383\n"
     ]
    }
   ],
   "source": [
    "c.compute_operating_point()\n",
    "print(div.voltage)"
   ]
  },
  {
   "cell_type": "code",
   "execution_count": 3,
   "metadata": {},
   "outputs": [
    {
     "name": "stdout",
     "output_type": "stream",
     "text": [
      "Ignoring node v-sweep [0.  0.5 1. ]\n",
      "Ignoring type i\n",
      "[0.         0.03846154 0.07692308]\n"
     ]
    }
   ],
   "source": [
    "c.compute_dc_sweep((dc, 0, 1, 0.5))\n",
    "print(div.voltage)"
   ]
  },
  {
   "cell_type": "code",
   "execution_count": 4,
   "metadata": {},
   "outputs": [
    {
     "data": {
      "image/svg+xml": [
       "<svg height=\"216\" width=\"120\" xmlns=\"http://www.w3.org/2000/svg\" xmlns:s=\"https://github.com/nturley/netlistsvg\" xmlns:xlink=\"http://www.w3.org/1999/xlink\">\n",
       "  <style>svg {\n",
       "    stroke: #000;\n",
       "    fill: none;\n",
       "  }\n",
       "  text {\n",
       "    fill: #000;\n",
       "    stroke: none;\n",
       "    font-size: 10px;\n",
       "    font-weight: bold;\n",
       "    font-family: &quot;Courier New&quot;, monospace;\n",
       "  }\n",
       "  .nodelabel {\n",
       "    text-anchor: middle;\n",
       "  }\n",
       "  .inputPortLabel {\n",
       "    text-anchor: end;\n",
       "  }\n",
       "  .splitjoinBody {\n",
       "    fill: #000;\n",
       "  }\n",
       "  .symbol {\n",
       "    stroke-linejoin: round;\n",
       "    stroke-linecap: round;\n",
       "    stroke-width: 2;\n",
       "  }\n",
       "  .detail {\n",
       "    stroke-linejoin: round;\n",
       "    stroke-linecap: round;\n",
       "    fill: #000;\n",
       "  }</style>\n",
       "  <g id=\"cell_V0\" s:height=\"52\" s:type=\"voltage_source\" s:width=\"32\" transform=\"translate(76,87)\">\n",
       "    <s:alias val=\"v\"/>\n",
       "    <text class=\"cell_V0\" s:attribute=\"ref\" x=\"35\" y=\"20\">V0</text>\n",
       "    <text class=\"cell_V0\" s:attribute=\"value\" x=\"35\" y=\"35\">2</text>\n",
       "    <circle class=\"symbol cell_V0\" cx=\"16\" cy=\"26\" r=\"16\"/>\n",
       "    <path class=\"detail cell_V0\" d=\"M16,10 V42\"/>\n",
       "    <path class=\"connect cell_V0\" d=\"M16,0 V10 M16,42 V52\"/>\n",
       "    <g s:pid=\"+\" s:position=\"top\" s:x=\"16\" s:y=\"0\"/>\n",
       "    <g s:pid=\"-\" s:position=\"bottom\" s:x=\"16\" s:y=\"52\"/>\n",
       "  </g>\n",
       "  <g id=\"cell_R0\" s:height=\"50\" s:type=\"resistor_v\" s:width=\"10\" transform=\"translate(87,32)\">\n",
       "    <s:alias val=\"r_v\"/>\n",
       "    <text class=\"cell_R0\" s:attribute=\"ref\" x=\"15\" y=\"15\">R0</text>\n",
       "    <text class=\"cell_R0\" s:attribute=\"value\" x=\"15\" y=\"30\">100</text>\n",
       "    <path class=\"symbol cell_R0\" d=\"M0,10 V40 H10 V10 Z\"/>\n",
       "    <path class=\"connect cell_R0\" d=\"M5,0 V10 M5,40 V50\"/>\n",
       "    <g s:pid=\"A\" s:position=\"top\" s:x=\"5\" s:y=\"0\"/>\n",
       "    <g s:pid=\"B\" s:position=\"bottom\" s:x=\"5\" s:y=\"50\"/>\n",
       "  </g>\n",
       "  <g id=\"cell_R1\" s:height=\"50\" s:type=\"resistor_v\" s:width=\"10\" transform=\"translate(29,89)\">\n",
       "    <s:alias val=\"r_v\"/>\n",
       "    <text class=\"cell_R1\" s:attribute=\"ref\" x=\"15\" y=\"15\">R1</text>\n",
       "    <text class=\"cell_R1\" s:attribute=\"value\" x=\"15\" y=\"30\">10</text>\n",
       "    <path class=\"symbol cell_R1\" d=\"M0,10 V40 H10 V10 Z\"/>\n",
       "    <path class=\"connect cell_R1\" d=\"M5,0 V10 M5,40 V50\"/>\n",
       "    <g s:pid=\"A\" s:position=\"top\" s:x=\"5\" s:y=\"0\"/>\n",
       "    <g s:pid=\"B\" s:position=\"bottom\" s:x=\"5\" s:y=\"50\"/>\n",
       "  </g>\n",
       "  <g id=\"cell_R2\" s:height=\"50\" s:type=\"resistor_v\" s:width=\"10\" transform=\"translate(12,34)\">\n",
       "    <s:alias val=\"r_v\"/>\n",
       "    <text class=\"cell_R2\" s:attribute=\"ref\" x=\"15\" y=\"15\">R2</text>\n",
       "    <text class=\"cell_R2\" s:attribute=\"value\" x=\"15\" y=\"30\">50</text>\n",
       "    <path class=\"symbol cell_R2\" d=\"M0,10 V40 H10 V10 Z\"/>\n",
       "    <path class=\"connect cell_R2\" d=\"M5,0 V10 M5,40 V50\"/>\n",
       "    <g s:pid=\"A\" s:position=\"top\" s:x=\"5\" s:y=\"0\"/>\n",
       "    <g s:pid=\"B\" s:position=\"bottom\" s:x=\"5\" s:y=\"50\"/>\n",
       "  </g>\n",
       "  <g id=\"cell_gnd\" s:height=\"30\" s:type=\"gnd\" s:width=\"20\" transform=\"translate(24,174)\">\n",
       "    <s:alias val=\"gnd\"/>\n",
       "    <text class=\"nodelabel cell_gnd\" s:attribute=\"name\" x=\"30\" y=\"20\"/>\n",
       "    <path class=\"cell_gnd\" d=\"M0,0 H20 M3,5 H17 M7,10 H13 M10,0 V-15\"/>\n",
       "    <g s:pid=\"A\" s:position=\"top\" s:x=\"10\" s:y=\"-15\"/>\n",
       "  </g>\n",
       "  <line class=\"net_1\" x1=\"92\" x2=\"92\" y1=\"82\" y2=\"87\"/>\n",
       "  <line class=\"net_2\" x1=\"17\" x2=\"92\" y1=\"22\" y2=\"22\"/>\n",
       "  <line class=\"net_2\" x1=\"92\" x2=\"92\" y1=\"22\" y2=\"32\"/>\n",
       "  <line class=\"net_2\" x1=\"17\" x2=\"34\" y1=\"22\" y2=\"22\"/>\n",
       "  <circle class=\"net_2\" cx=\"34\" cy=\"22\" r=\"2\" style=\"fill:#000\"/>\n",
       "  <line class=\"net_2\" x1=\"34\" x2=\"34\" y1=\"22\" y2=\"89\"/>\n",
       "  <line class=\"net_2\" x1=\"17\" x2=\"17\" y1=\"22\" y2=\"34\"/>\n",
       "  <line class=\"net_0\" x1=\"92\" x2=\"92\" y1=\"139\" y2=\"149\"/>\n",
       "  <line class=\"net_0\" x1=\"92\" x2=\"34\" y1=\"149\" y2=\"149\"/>\n",
       "  <line class=\"net_0\" x1=\"34\" x2=\"34\" y1=\"149\" y2=\"159\"/>\n",
       "  <line class=\"net_0\" x1=\"34\" x2=\"34\" y1=\"139\" y2=\"159\"/>\n",
       "  <line class=\"net_0\" x1=\"17\" x2=\"17\" y1=\"84\" y2=\"149\"/>\n",
       "  <line class=\"net_0\" x1=\"17\" x2=\"34\" y1=\"149\" y2=\"149\"/>\n",
       "  <circle class=\"net_0\" cx=\"34\" cy=\"149\" r=\"2\" style=\"fill:#000\"/>\n",
       "  <line class=\"net_0\" x1=\"34\" x2=\"34\" y1=\"149\" y2=\"159\"/>\n",
       "</svg>"
      ],
      "text/plain": [
       "<IPython.core.display.SVG object>"
      ]
     },
     "execution_count": 4,
     "metadata": {},
     "output_type": "execute_result"
    }
   ],
   "source": [
    "from IPython.display import SVG\n",
    "SVG(c.render_svg())"
   ]
  },
  {
   "cell_type": "code",
   "execution_count": null,
   "metadata": {},
   "outputs": [],
   "source": []
  }
 ],
 "metadata": {
  "kernelspec": {
   "display_name": "Python 3",
   "language": "python",
   "name": "python3"
  },
  "language_info": {
   "codemirror_mode": {
    "name": "ipython",
    "version": 3
   },
   "file_extension": ".py",
   "mimetype": "text/x-python",
   "name": "python",
   "nbconvert_exporter": "python",
   "pygments_lexer": "ipython3",
   "version": "3.6.8"
  }
 },
 "nbformat": 4,
 "nbformat_minor": 4
}
