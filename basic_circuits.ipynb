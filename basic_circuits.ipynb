{
 "cells": [
  {
   "cell_type": "code",
   "execution_count": 4,
   "metadata": {},
   "outputs": [],
   "source": [
    "from main import *\n",
    "from IPython.display import SVG"
   ]
  },
  {
   "cell_type": "code",
   "execution_count": 7,
   "metadata": {},
   "outputs": [
    {
     "data": {
      "image/svg+xml": [
       "<svg height=\"214\" width=\"121\" xmlns=\"http://www.w3.org/2000/svg\" xmlns:s=\"https://github.com/nturley/netlistsvg\" xmlns:xlink=\"http://www.w3.org/1999/xlink\">\n",
       "  <style>svg {\n",
       "    stroke: #000;\n",
       "    fill: none;\n",
       "  }\n",
       "  text {\n",
       "    fill: #000;\n",
       "    stroke: none;\n",
       "    font-size: 10px;\n",
       "    font-weight: bold;\n",
       "    font-family: &quot;Courier New&quot;, monospace;\n",
       "  }\n",
       "  .nodelabel {\n",
       "    text-anchor: middle;\n",
       "  }\n",
       "  .inputPortLabel {\n",
       "    text-anchor: end;\n",
       "  }\n",
       "  .splitjoinBody {\n",
       "    fill: #000;\n",
       "  }\n",
       "  .symbol {\n",
       "    stroke-linejoin: round;\n",
       "    stroke-linecap: round;\n",
       "    stroke-width: 2;\n",
       "  }\n",
       "  .detail {\n",
       "    stroke-linejoin: round;\n",
       "    stroke-linecap: round;\n",
       "    fill: #000;\n",
       "  }</style>\n",
       "  <g id=\"cell_V4\" s:height=\"52\" s:type=\"voltage_source\" s:width=\"32\" transform=\"translate(77,85)\">\n",
       "    <s:alias val=\"v\"/>\n",
       "    <text class=\"cell_V4\" s:attribute=\"ref\" x=\"35\" y=\"20\">V4</text>\n",
       "    <text class=\"cell_V4\" s:attribute=\"value\" x=\"35\" y=\"35\">2</text>\n",
       "    <circle class=\"symbol cell_V4\" cx=\"16\" cy=\"26\" r=\"16\"/>\n",
       "    <path class=\"detail cell_V4\" d=\"M16,10 V42\"/>\n",
       "    <path class=\"connect cell_V4\" d=\"M16,0 V10 M16,42 V52\"/>\n",
       "    <g s:pid=\"+\" s:position=\"top\" s:x=\"16\" s:y=\"0\"/>\n",
       "    <g s:pid=\"-\" s:position=\"bottom\" s:x=\"16\" s:y=\"52\"/>\n",
       "  </g>\n",
       "  <g id=\"cell_C0\" s:height=\"50\" s:type=\"capacitor_v\" s:width=\"30\" transform=\"translate(12,87)\">\n",
       "    <s:alias val=\"c_v\"/>\n",
       "    <text class=\"cell_C0\" s:attribute=\"ref\" x=\"25\" y=\"10\">C0</text>\n",
       "    <text class=\"cell_C0\" s:attribute=\"value\" x=\"25\" y=\"45\">1e-09</text>\n",
       "    <path class=\"symbol cell_C0\" d=\"M0,20 H30 M0,30 H30\"/>\n",
       "    <path class=\"connect cell_C0\" d=\"M15,0 V20 M15,30 V50\"/>\n",
       "    <g s:pid=\"A\" s:position=\"top\" s:x=\"15\" s:y=\"0\"/>\n",
       "    <g s:pid=\"B\" s:position=\"bottom\" s:x=\"15\" s:y=\"50\"/>\n",
       "  </g>\n",
       "  <g id=\"cell_R9\" s:height=\"50\" s:type=\"resistor_v\" s:width=\"10\" transform=\"translate(22,32)\">\n",
       "    <s:alias val=\"r_v\"/>\n",
       "    <text class=\"cell_R9\" s:attribute=\"ref\" x=\"15\" y=\"15\">R9</text>\n",
       "    <text class=\"cell_R9\" s:attribute=\"value\" x=\"15\" y=\"30\">200</text>\n",
       "    <path class=\"symbol cell_R9\" d=\"M0,10 V40 H10 V10 Z\"/>\n",
       "    <path class=\"connect cell_R9\" d=\"M5,0 V10 M5,40 V50\"/>\n",
       "    <g s:pid=\"A\" s:position=\"top\" s:x=\"5\" s:y=\"0\"/>\n",
       "    <g s:pid=\"B\" s:position=\"bottom\" s:x=\"5\" s:y=\"50\"/>\n",
       "  </g>\n",
       "  <g id=\"cell_gnd\" s:height=\"30\" s:type=\"gnd\" s:width=\"20\" transform=\"translate(17,172)\">\n",
       "    <s:alias val=\"gnd\"/>\n",
       "    <text class=\"nodelabel cell_gnd\" s:attribute=\"name\" x=\"30\" y=\"20\"/>\n",
       "    <path class=\"cell_gnd\" d=\"M0,0 H20 M3,5 H17 M7,10 H13 M10,0 V-15\"/>\n",
       "    <g s:pid=\"A\" s:position=\"top\" s:x=\"10\" s:y=\"-15\"/>\n",
       "  </g>\n",
       "  <line class=\"net_1\" x1=\"27\" x2=\"93\" y1=\"22\" y2=\"22\"/>\n",
       "  <line class=\"net_1\" x1=\"93\" x2=\"93\" y1=\"22\" y2=\"85\"/>\n",
       "  <line class=\"net_1\" x1=\"27\" x2=\"27\" y1=\"22\" y2=\"32\"/>\n",
       "  <line class=\"net_2\" x1=\"27\" x2=\"27\" y1=\"82\" y2=\"87\"/>\n",
       "  <line class=\"net_0\" x1=\"93\" x2=\"93\" y1=\"137\" y2=\"147\"/>\n",
       "  <line class=\"net_0\" x1=\"93\" x2=\"27\" y1=\"147\" y2=\"147\"/>\n",
       "  <circle class=\"net_0\" cx=\"27\" cy=\"147\" r=\"2\" style=\"fill:#000\"/>\n",
       "  <line class=\"net_0\" x1=\"27\" x2=\"27\" y1=\"147\" y2=\"157\"/>\n",
       "  <line class=\"net_0\" x1=\"27\" x2=\"27\" y1=\"137\" y2=\"157\"/>\n",
       "</svg>"
      ],
      "text/plain": [
       "<IPython.core.display.SVG object>"
      ]
     },
     "execution_count": 7,
     "metadata": {},
     "output_type": "execute_result"
    }
   ],
   "source": [
    "c = Circuit()\n",
    "dc = DCVoltage(c, voltage=2)\n",
    "c1 = Capacitor(c, capacitance=1e-9)\n",
    "r1 = Resistor(c, resistance=200)\n",
    "\n",
    "connect(dc.pos, r1)\n",
    "filt = connect(r1, c1)\n",
    "ground(dc.neg, c1)\n",
    "\n",
    "SVG(c.render_svg())"
   ]
  },
  {
   "cell_type": "code",
   "execution_count": 15,
   "metadata": {},
   "outputs": [],
   "source": [
    "c = Circuit()\n",
    "dc = DCVoltage(c, voltage=2)\n",
    "r1 = Resistor(c, resistance=100)\n",
    "r2 = Resistor(c, resistance=200)\n",
    "r3 = Resistor(c, resistance=200)\n",
    "\n",
    "ground(dc.neg, r2, r3)\n",
    "connect(dc.pos, r1)\n",
    "div = connect(r1, r2, r3)"
   ]
  },
  {
   "cell_type": "code",
   "execution_count": 16,
   "metadata": {},
   "outputs": [
    {
     "name": "stdout",
     "output_type": "stream",
     "text": [
      "Ignoring type i\n",
      "1.0\n"
     ]
    }
   ],
   "source": [
    "c.compute_operating_point()\n",
    "print(div.voltage)"
   ]
  },
  {
   "cell_type": "code",
   "execution_count": 17,
   "metadata": {},
   "outputs": [
    {
     "name": "stdout",
     "output_type": "stream",
     "text": [
      "Ignoring node v-sweep [0.  0.5 1. ]\n",
      "Ignoring type i\n",
      "[0.   0.25 0.5 ]\n"
     ]
    }
   ],
   "source": [
    "c.compute_dc_sweep((dc, 0, 1, 0.5))\n",
    "print(div.voltage)"
   ]
  },
  {
   "cell_type": "code",
   "execution_count": 18,
   "metadata": {},
   "outputs": [
    {
     "data": {
      "image/svg+xml": [
       "<svg height=\"186\" width=\"166\" xmlns=\"http://www.w3.org/2000/svg\" xmlns:s=\"https://github.com/nturley/netlistsvg\" xmlns:xlink=\"http://www.w3.org/1999/xlink\">\n",
       "  <style>svg {\n",
       "    stroke: #000;\n",
       "    fill: none;\n",
       "  }\n",
       "  text {\n",
       "    fill: #000;\n",
       "    stroke: none;\n",
       "    font-size: 10px;\n",
       "    font-weight: bold;\n",
       "    font-family: &quot;Courier New&quot;, monospace;\n",
       "  }\n",
       "  .nodelabel {\n",
       "    text-anchor: middle;\n",
       "  }\n",
       "  .inputPortLabel {\n",
       "    text-anchor: end;\n",
       "  }\n",
       "  .splitjoinBody {\n",
       "    fill: #000;\n",
       "  }\n",
       "  .symbol {\n",
       "    stroke-linejoin: round;\n",
       "    stroke-linecap: round;\n",
       "    stroke-width: 2;\n",
       "  }\n",
       "  .detail {\n",
       "    stroke-linejoin: round;\n",
       "    stroke-linecap: round;\n",
       "    fill: #000;\n",
       "  }</style>\n",
       "  <g id=\"cell_V3\" s:height=\"52\" s:type=\"voltage_source\" s:width=\"32\" transform=\"translate(70,32)\">\n",
       "    <s:alias val=\"v\"/>\n",
       "    <text class=\"cell_V3\" s:attribute=\"ref\" x=\"35\" y=\"20\">V3</text>\n",
       "    <text class=\"cell_V3\" s:attribute=\"value\" x=\"35\" y=\"35\">2</text>\n",
       "    <circle class=\"symbol cell_V3\" cx=\"16\" cy=\"26\" r=\"16\"/>\n",
       "    <path class=\"detail cell_V3\" d=\"M16,10 V42\"/>\n",
       "    <path class=\"connect cell_V3\" d=\"M16,0 V10 M16,42 V52\"/>\n",
       "    <g s:pid=\"+\" s:position=\"top\" s:x=\"16\" s:y=\"0\"/>\n",
       "    <g s:pid=\"-\" s:position=\"bottom\" s:x=\"16\" s:y=\"52\"/>\n",
       "  </g>\n",
       "  <g id=\"cell_R9\" s:height=\"50\" s:type=\"resistor_v\" s:width=\"10\" transform=\"translate(12,34)\">\n",
       "    <s:alias val=\"r_v\"/>\n",
       "    <text class=\"cell_R9\" s:attribute=\"ref\" x=\"15\" y=\"15\">R9</text>\n",
       "    <text class=\"cell_R9\" s:attribute=\"value\" x=\"15\" y=\"30\">100</text>\n",
       "    <path class=\"symbol cell_R9\" d=\"M0,10 V40 H10 V10 Z\"/>\n",
       "    <path class=\"connect cell_R9\" d=\"M5,0 V10 M5,40 V50\"/>\n",
       "    <g s:pid=\"A\" s:position=\"top\" s:x=\"5\" s:y=\"0\"/>\n",
       "    <g s:pid=\"B\" s:position=\"bottom\" s:x=\"5\" s:y=\"50\"/>\n",
       "  </g>\n",
       "  <g id=\"cell_R10\" s:height=\"50\" s:type=\"resistor_v\" s:width=\"10\" transform=\"translate(81,104)\">\n",
       "    <s:alias val=\"r_v\"/>\n",
       "    <text class=\"cell_R10\" s:attribute=\"ref\" x=\"15\" y=\"15\">R10</text>\n",
       "    <text class=\"cell_R10\" s:attribute=\"value\" x=\"15\" y=\"30\">200</text>\n",
       "    <path class=\"symbol cell_R10\" d=\"M0,10 V40 H10 V10 Z\"/>\n",
       "    <path class=\"connect cell_R10\" d=\"M5,0 V10 M5,40 V50\"/>\n",
       "    <g s:pid=\"A\" s:position=\"top\" s:x=\"5\" s:y=\"0\"/>\n",
       "    <g s:pid=\"B\" s:position=\"bottom\" s:x=\"5\" s:y=\"50\"/>\n",
       "  </g>\n",
       "  <g id=\"cell_R11\" s:height=\"50\" s:type=\"resistor_v\" s:width=\"10\" transform=\"translate(28,104)\">\n",
       "    <s:alias val=\"r_v\"/>\n",
       "    <text class=\"cell_R11\" s:attribute=\"ref\" x=\"15\" y=\"15\">R11</text>\n",
       "    <text class=\"cell_R11\" s:attribute=\"value\" x=\"15\" y=\"30\">200</text>\n",
       "    <path class=\"symbol cell_R11\" d=\"M0,10 V40 H10 V10 Z\"/>\n",
       "    <path class=\"connect cell_R11\" d=\"M5,0 V10 M5,40 V50\"/>\n",
       "    <g s:pid=\"A\" s:position=\"top\" s:x=\"5\" s:y=\"0\"/>\n",
       "    <g s:pid=\"B\" s:position=\"bottom\" s:x=\"5\" s:y=\"50\"/>\n",
       "  </g>\n",
       "  <g id=\"cell_gnd\" s:height=\"30\" s:type=\"gnd\" s:width=\"20\" transform=\"translate(134,119)\">\n",
       "    <s:alias val=\"gnd\"/>\n",
       "    <text class=\"nodelabel cell_gnd\" s:attribute=\"name\" x=\"30\" y=\"20\"/>\n",
       "    <path class=\"cell_gnd\" d=\"M0,0 H20 M3,5 H17 M7,10 H13 M10,0 V-15\"/>\n",
       "    <g s:pid=\"A\" s:position=\"top\" s:x=\"10\" s:y=\"-15\"/>\n",
       "  </g>\n",
       "  <line class=\"net_1\" x1=\"17\" x2=\"86\" y1=\"22\" y2=\"22\"/>\n",
       "  <line class=\"net_1\" x1=\"86\" x2=\"86\" y1=\"22\" y2=\"32\"/>\n",
       "  <line class=\"net_1\" x1=\"17\" x2=\"17\" y1=\"22\" y2=\"34\"/>\n",
       "  <line class=\"net_0\" x1=\"86\" x2=\"86\" y1=\"84\" y2=\"104\"/>\n",
       "  <line class=\"net_0\" x1=\"86\" x2=\"86\" y1=\"84\" y2=\"94\"/>\n",
       "  <line class=\"net_0\" x1=\"86\" x2=\"33\" y1=\"94\" y2=\"94\"/>\n",
       "  <circle class=\"net_0\" cx=\"86\" cy=\"94\" r=\"2\" style=\"fill:#000\"/>\n",
       "  <line class=\"net_0\" x1=\"33\" x2=\"33\" y1=\"94\" y2=\"104\"/>\n",
       "  <line class=\"net_0\" x1=\"86\" x2=\"86\" y1=\"84\" y2=\"94\"/>\n",
       "  <line class=\"net_0\" x1=\"86\" x2=\"144\" y1=\"94\" y2=\"94\"/>\n",
       "  <line class=\"net_0\" x1=\"144\" x2=\"144\" y1=\"94\" y2=\"104\"/>\n",
       "  <line class=\"net_2\" x1=\"17\" x2=\"17\" y1=\"84\" y2=\"164\"/>\n",
       "  <line class=\"net_2\" x1=\"86\" x2=\"86\" y1=\"154\" y2=\"164\"/>\n",
       "  <line class=\"net_2\" x1=\"86\" x2=\"17\" y1=\"164\" y2=\"164\"/>\n",
       "  <line class=\"net_2\" x1=\"33\" x2=\"33\" y1=\"154\" y2=\"164\"/>\n",
       "  <circle class=\"net_2\" cx=\"33\" cy=\"164\" r=\"2\" style=\"fill:#000\"/>\n",
       "  <line class=\"net_2\" x1=\"33\" x2=\"17\" y1=\"164\" y2=\"164\"/>\n",
       "</svg>"
      ],
      "text/plain": [
       "<IPython.core.display.SVG object>"
      ]
     },
     "execution_count": 18,
     "metadata": {},
     "output_type": "execute_result"
    }
   ],
   "source": [
    "SVG(c.render_svg())"
   ]
  },
  {
   "cell_type": "code",
   "execution_count": null,
   "metadata": {},
   "outputs": [],
   "source": []
  }
 ],
 "metadata": {
  "kernelspec": {
   "display_name": "Python 3",
   "language": "python",
   "name": "python3"
  },
  "language_info": {
   "codemirror_mode": {
    "name": "ipython",
    "version": 3
   },
   "file_extension": ".py",
   "mimetype": "text/x-python",
   "name": "python",
   "nbconvert_exporter": "python",
   "pygments_lexer": "ipython3",
   "version": "3.6.8"
  }
 },
 "nbformat": 4,
 "nbformat_minor": 4
}
