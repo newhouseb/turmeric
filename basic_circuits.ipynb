{
 "cells": [
  {
   "cell_type": "code",
   "execution_count": 1,
   "metadata": {},
   "outputs": [],
   "source": [
    "from main import Circuit, Voltage, Capacitor, Resistor, connect, ground, import_subcircuit\n",
    "from IPython.display import SVG\n",
    "from matplotlib import pyplot as plt"
   ]
  },
  {
   "cell_type": "code",
   "execution_count": 2,
   "metadata": {},
   "outputs": [
    {
     "data": {
      "image/svg+xml": [
       "<svg height=\"198\" width=\"149\" xmlns=\"http://www.w3.org/2000/svg\" xmlns:s=\"https://github.com/nturley/netlistsvg\" xmlns:xlink=\"http://www.w3.org/1999/xlink\">\n",
       "  <style>svg {\n",
       "    stroke: #000;\n",
       "    fill: none;\n",
       "  }\n",
       "  text {\n",
       "    fill: #000;\n",
       "    stroke: none;\n",
       "    font-size: 10px;\n",
       "    font-weight: bold;\n",
       "    font-family: &quot;Courier New&quot;, monospace;\n",
       "  }\n",
       "  .nodelabel {\n",
       "    text-anchor: middle;\n",
       "  }\n",
       "  .inputPortLabel {\n",
       "    text-anchor: end;\n",
       "  }\n",
       "  .splitjoinBody {\n",
       "    fill: #000;\n",
       "  }\n",
       "  .symbol {\n",
       "    stroke-linejoin: round;\n",
       "    stroke-linecap: round;\n",
       "    stroke-width: 2;\n",
       "  }\n",
       "  .detail {\n",
       "    stroke-linejoin: round;\n",
       "    stroke-linecap: round;\n",
       "    fill: #000;\n",
       "  }</style>\n",
       "  <g id=\"cell_V0\" s:height=\"52\" s:type=\"voltage_source\" s:width=\"32\" transform=\"translate(79,69)\">\n",
       "    <s:alias val=\"v\"/>\n",
       "    <text class=\"cell_V0\" s:attribute=\"ref\" x=\"35\" y=\"20\">V0</text>\n",
       "    <text class=\"cell_V0\" s:attribute=\"value\" x=\"35\" y=\"35\">2</text>\n",
       "    <circle class=\"symbol cell_V0\" cx=\"16\" cy=\"26\" r=\"16\"/>\n",
       "    <path class=\"detail cell_V0\" d=\"M16,10 V42\"/>\n",
       "    <path class=\"connect cell_V0\" d=\"M16,0 V10 M16,42 V52\"/>\n",
       "    <g s:pid=\"+\" s:position=\"top\" s:x=\"16\" s:y=\"0\"/>\n",
       "    <g s:pid=\"-\" s:position=\"bottom\" s:x=\"16\" s:y=\"52\"/>\n",
       "  </g>\n",
       "  <g id=\"cell_V1\" s:height=\"52\" s:type=\"voltage_source\" s:width=\"32\" transform=\"translate(12,69)\">\n",
       "    <s:alias val=\"v\"/>\n",
       "    <text class=\"cell_V1\" s:attribute=\"ref\" x=\"35\" y=\"20\">V1</text>\n",
       "    <text class=\"cell_V1\" s:attribute=\"value\" x=\"35\" y=\"35\">5</text>\n",
       "    <circle class=\"symbol cell_V1\" cx=\"16\" cy=\"26\" r=\"16\"/>\n",
       "    <path class=\"detail cell_V1\" d=\"M16,10 V42\"/>\n",
       "    <path class=\"connect cell_V1\" d=\"M16,0 V10 M16,42 V52\"/>\n",
       "    <g s:pid=\"+\" s:position=\"top\" s:x=\"16\" s:y=\"0\"/>\n",
       "    <g s:pid=\"-\" s:position=\"bottom\" s:x=\"16\" s:y=\"52\"/>\n",
       "  </g>\n",
       "  <g id=\"cell_X0\" s:height=\"32\" s:type=\"transistor_npn\" s:width=\"32\" transform=\"translate(105,32)\">\n",
       "    <s:alias val=\"q_npn\"/>\n",
       "    <text class=\"cell_X0\" s:attribute=\"ref\" x=\"35\" y=\"20\">X0</text>\n",
       "    <circle class=\"symbol cell_X0\" cx=\"16\" cy=\"16\" r=\"16\"/>\n",
       "    <path class=\"detail cell_X0\" d=\"M0,16 H12 M12,6 V26\"/>\n",
       "    <path class=\"detail cell_X0\" d=\"m12,10 11,-8\"/>\n",
       "    <path class=\"detail cell_X0\" d=\"m12,21 11,8\"/>\n",
       "    <path class=\"cell_X0\" d=\"m23,29 -6,-1 3,-5 z\" style=\"fill:#000000\"/>\n",
       "    <g s:pid=\"C\" s:position=\"top\" s:x=\"22\" s:y=\"2\"/>\n",
       "    <g s:pid=\"B\" s:position=\"left\" s:x=\"0\" s:y=\"16\"/>\n",
       "    <g s:pid=\"E\" s:position=\"bottom\" s:x=\"23\" s:y=\"29\"/>\n",
       "  </g>\n",
       "  <g id=\"cell_gnd\" s:height=\"30\" s:type=\"gnd\" s:width=\"20\" transform=\"translate(85,156)\">\n",
       "    <s:alias val=\"gnd\"/>\n",
       "    <text class=\"nodelabel cell_gnd\" s:attribute=\"name\" x=\"30\" y=\"20\"/>\n",
       "    <path class=\"cell_gnd\" d=\"M0,0 H20 M3,5 H17 M7,10 H13 M10,0 V-15\"/>\n",
       "    <g s:pid=\"A\" s:position=\"top\" s:x=\"10\" s:y=\"-15\"/>\n",
       "  </g>\n",
       "  <line class=\"net_1\" x1=\"105\" x2=\"95\" y1=\"48\" y2=\"48\"/>\n",
       "  <line class=\"net_1\" x1=\"95\" x2=\"95\" y1=\"48\" y2=\"69\"/>\n",
       "  <line class=\"net_2\" x1=\"28\" x2=\"28\" y1=\"22\" y2=\"69\"/>\n",
       "  <line class=\"net_2\" x1=\"28\" x2=\"127\" y1=\"22\" y2=\"22\"/>\n",
       "  <line class=\"net_2\" x1=\"127\" x2=\"127\" y1=\"22\" y2=\"34\"/>\n",
       "  <line class=\"net_0\" x1=\"95\" x2=\"95\" y1=\"121\" y2=\"141\"/>\n",
       "  <line class=\"net_0\" x1=\"28\" x2=\"28\" y1=\"121\" y2=\"131\"/>\n",
       "  <line class=\"net_0\" x1=\"28\" x2=\"95\" y1=\"131\" y2=\"131\"/>\n",
       "  <circle class=\"net_0\" cx=\"95\" cy=\"131\" r=\"2\" style=\"fill:#000\"/>\n",
       "  <line class=\"net_0\" x1=\"95\" x2=\"95\" y1=\"131\" y2=\"141\"/>\n",
       "  <line class=\"net_0\" x1=\"128\" x2=\"128\" y1=\"61\" y2=\"131\"/>\n",
       "  <line class=\"net_0\" x1=\"128\" x2=\"95\" y1=\"131\" y2=\"131\"/>\n",
       "  <line class=\"net_0\" x1=\"95\" x2=\"95\" y1=\"131\" y2=\"141\"/>\n",
       "</svg>"
      ],
      "text/plain": [
       "<IPython.core.display.SVG object>"
      ]
     },
     "execution_count": 2,
     "metadata": {},
     "output_type": "execute_result"
    }
   ],
   "source": [
    "c = Circuit()\n",
    "\n",
    "RFTransistor = import_subcircuit(c, 'BFR181_spice_v2.txt', 'BFR181', 'collector', 'base', 'emitter', symbol='npn')\n",
    "\n",
    "dcB = Voltage(c, voltage=2)\n",
    "dcC = Voltage(c, voltage=5)\n",
    "t = RFTransistor(c)\n",
    "\n",
    "connect(dcB.pos, t.base)\n",
    "connect(dcC.pos, t.collector)\n",
    "ground(dcB.neg, dcC.neg, t.emitter)\n",
    "\n",
    "SVG(c.render_svg())"
   ]
  },
  {
   "cell_type": "code",
   "execution_count": 15,
   "metadata": {},
   "outputs": [
    {
     "name": "stdout",
     "output_type": "stream",
     "text": [
      "Ignoring node x0.2\n",
      "Ignoring node x0.3\n",
      "Ignoring node x0.1\n",
      "Ignoring node x0.30\n",
      "Ignoring node x0.20\n",
      "Ignoring node x0.2\n",
      "Ignoring node x0.3\n",
      "Ignoring node x0.1\n",
      "Ignoring node x0.30\n",
      "Ignoring node x0.20\n",
      "Ignoring node x0.2\n",
      "Ignoring node x0.3\n",
      "Ignoring node x0.1\n",
      "Ignoring node x0.30\n",
      "Ignoring node x0.20\n"
     ]
    },
    {
     "data": {
      "text/plain": [
       "[<matplotlib.lines.Line2D at 0x7f73a5039d30>]"
      ]
     },
     "execution_count": 15,
     "metadata": {},
     "output_type": "execute_result"
    },
    {
     "data": {
      "image/png": "[encoded data removed]",
      "text/plain": [
       "<matplotlib.figure.Figure at 0x7f73a5039da0>"
      ]
     },
     "metadata": {
      "needs_background": "light"
     },
     "output_type": "display_data"
    }
   ],
   "source": [
    "dcB.voltage = 1\n",
    "c.compute_dc_sweep((dcC, 0, 10, 0.01))\n",
    "plt.plot(c.sweep, -dcC.current)\n",
    "\n",
    "dcB.voltage = 1.5\n",
    "c.compute_dc_sweep((dcC, 0, 10, 0.01))\n",
    "plt.plot(c.sweep, -dcC.current)\n",
    "\n",
    "dcB.voltage = 2\n",
    "c.compute_dc_sweep((dcC, 0, 10, 0.01))\n",
    "plt.plot(c.sweep, -dcC.current)"
   ]
  },
  {
   "cell_type": "code",
   "execution_count": 16,
   "metadata": {},
   "outputs": [
    {
     "name": "stdout",
     "output_type": "stream",
     "text": [
      "Ignoring node x0.2\n",
      "Ignoring node x0.3\n",
      "Ignoring node x0.1\n",
      "Ignoring node x0.30\n",
      "Ignoring node x0.20\n"
     ]
    },
    {
     "data": {
      "image/png": "[encoded data removed]",
      "text/plain": [
       "<matplotlib.figure.Figure at 0x7f73a4ef51d0>"
      ]
     },
     "metadata": {
      "needs_background": "light"
     },
     "output_type": "display_data"
    }
   ],
   "source": [
    "from mpl_toolkits import mplot3d\n",
    "\n",
    "import numpy as np\n",
    "\n",
    "c.compute_dc_sweep((dcC, 0, 10, 0.2), (dcB, 0, 5, 0.1))\n",
    "fig = plt.figure()\n",
    "ax = plt.axes(projection='3d')\n",
    "ax.contour3D(np.arange(0,10.1,0.2), np.arange(0,5.1, 0.1), np.array(-dcC.current).reshape(51,51), 100, cmap='viridis')\n",
    "\n",
    "ax.view_init(10, 100)"
   ]
  },
  {
   "cell_type": "code",
   "execution_count": 70,
   "metadata": {},
   "outputs": [
    {
     "data": {
      "image/svg+xml": [
       "<svg height=\"292\" width=\"224\" xmlns=\"http://www.w3.org/2000/svg\" xmlns:s=\"https://github.com/nturley/netlistsvg\" xmlns:xlink=\"http://www.w3.org/1999/xlink\">\n",
       "  <style>svg {\n",
       "    stroke: #000;\n",
       "    fill: none;\n",
       "  }\n",
       "  text {\n",
       "    fill: #000;\n",
       "    stroke: none;\n",
       "    font-size: 10px;\n",
       "    font-weight: bold;\n",
       "    font-family: &quot;Courier New&quot;, monospace;\n",
       "  }\n",
       "  .nodelabel {\n",
       "    text-anchor: middle;\n",
       "  }\n",
       "  .inputPortLabel {\n",
       "    text-anchor: end;\n",
       "  }\n",
       "  .splitjoinBody {\n",
       "    fill: #000;\n",
       "  }\n",
       "  .symbol {\n",
       "    stroke-linejoin: round;\n",
       "    stroke-linecap: round;\n",
       "    stroke-width: 2;\n",
       "  }\n",
       "  .detail {\n",
       "    stroke-linejoin: round;\n",
       "    stroke-linecap: round;\n",
       "    fill: #000;\n",
       "  }</style>\n",
       "  <g id=\"cell_V56\" s:height=\"52\" s:type=\"voltage_source\" s:width=\"32\" transform=\"translate(12,106)\">\n",
       "    <s:alias val=\"v\"/>\n",
       "    <text class=\"cell_V56\" s:attribute=\"ref\" x=\"35\" y=\"20\">V56</text>\n",
       "    <text class=\"cell_V56\" s:attribute=\"value\" x=\"35\" y=\"35\">5</text>\n",
       "    <circle class=\"symbol cell_V56\" cx=\"16\" cy=\"26\" r=\"16\"/>\n",
       "    <path class=\"detail cell_V56\" d=\"M16,10 V42\"/>\n",
       "    <path class=\"connect cell_V56\" d=\"M16,0 V10 M16,42 V52\"/>\n",
       "    <g s:pid=\"+\" s:position=\"top\" s:x=\"16\" s:y=\"0\"/>\n",
       "    <g s:pid=\"-\" s:position=\"bottom\" s:x=\"16\" s:y=\"52\"/>\n",
       "  </g>\n",
       "  <g id=\"cell_V57\" s:height=\"52\" s:type=\"voltage_source\" s:width=\"32\" transform=\"translate(39,163)\">\n",
       "    <s:alias val=\"v\"/>\n",
       "    <text class=\"cell_V57\" s:attribute=\"ref\" x=\"35\" y=\"20\">V57</text>\n",
       "    <text class=\"cell_V57\" s:attribute=\"value\" x=\"35\" y=\"35\">5</text>\n",
       "    <circle class=\"symbol cell_V57\" cx=\"16\" cy=\"26\" r=\"16\"/>\n",
       "    <path class=\"detail cell_V57\" d=\"M16,10 V42\"/>\n",
       "    <path class=\"connect cell_V57\" d=\"M16,0 V10 M16,42 V52\"/>\n",
       "    <g s:pid=\"+\" s:position=\"top\" s:x=\"16\" s:y=\"0\"/>\n",
       "    <g s:pid=\"-\" s:position=\"bottom\" s:x=\"16\" s:y=\"52\"/>\n",
       "  </g>\n",
       "  <g id=\"cell_R108\" s:height=\"50\" s:type=\"resistor_v\" s:width=\"10\" transform=\"translate(105,43)\">\n",
       "    <s:alias val=\"r_v\"/>\n",
       "    <text class=\"cell_R108\" s:attribute=\"ref\" x=\"15\" y=\"15\">R108</text>\n",
       "    <text class=\"cell_R108\" s:attribute=\"value\" x=\"15\" y=\"30\">2000.0</text>\n",
       "    <path class=\"symbol cell_R108\" d=\"M0,10 V40 H10 V10 Z\"/>\n",
       "    <path class=\"connect cell_R108\" d=\"M5,0 V10 M5,40 V50\"/>\n",
       "    <g s:pid=\"A\" s:position=\"top\" s:x=\"5\" s:y=\"0\"/>\n",
       "    <g s:pid=\"B\" s:position=\"bottom\" s:x=\"5\" s:y=\"50\"/>\n",
       "  </g>\n",
       "  <g id=\"cell_R109\" s:height=\"50\" s:type=\"resistor_v\" s:width=\"10\" transform=\"translate(106,165)\">\n",
       "    <s:alias val=\"r_v\"/>\n",
       "    <text class=\"cell_R109\" s:attribute=\"ref\" x=\"15\" y=\"15\">R109</text>\n",
       "    <text class=\"cell_R109\" s:attribute=\"value\" x=\"15\" y=\"30\">500.0</text>\n",
       "    <path class=\"symbol cell_R109\" d=\"M0,10 V40 H10 V10 Z\"/>\n",
       "    <path class=\"connect cell_R109\" d=\"M5,0 V10 M5,40 V50\"/>\n",
       "    <g s:pid=\"A\" s:position=\"top\" s:x=\"5\" s:y=\"0\"/>\n",
       "    <g s:pid=\"B\" s:position=\"bottom\" s:x=\"5\" s:y=\"50\"/>\n",
       "  </g>\n",
       "  <g id=\"cell_R110\" s:height=\"50\" s:type=\"resistor_v\" s:width=\"10\" transform=\"translate(176,32)\">\n",
       "    <s:alias val=\"r_v\"/>\n",
       "    <text class=\"cell_R110\" s:attribute=\"ref\" x=\"15\" y=\"15\">R110</text>\n",
       "    <text class=\"cell_R110\" s:attribute=\"value\" x=\"15\" y=\"30\">1250.0</text>\n",
       "    <path class=\"symbol cell_R110\" d=\"M0,10 V40 H10 V10 Z\"/>\n",
       "    <path class=\"connect cell_R110\" d=\"M5,0 V10 M5,40 V50\"/>\n",
       "    <g s:pid=\"A\" s:position=\"top\" s:x=\"5\" s:y=\"0\"/>\n",
       "    <g s:pid=\"B\" s:position=\"bottom\" s:x=\"5\" s:y=\"50\"/>\n",
       "  </g>\n",
       "  <g id=\"cell_R111\" s:height=\"50\" s:type=\"resistor_v\" s:width=\"10\" transform=\"translate(66,58)\">\n",
       "    <s:alias val=\"r_v\"/>\n",
       "    <text class=\"cell_R111\" s:attribute=\"ref\" x=\"15\" y=\"15\">R111</text>\n",
       "    <text class=\"cell_R111\" s:attribute=\"value\" x=\"15\" y=\"30\">500.0</text>\n",
       "    <path class=\"symbol cell_R111\" d=\"M0,10 V40 H10 V10 Z\"/>\n",
       "    <path class=\"connect cell_R111\" d=\"M5,0 V10 M5,40 V50\"/>\n",
       "    <g s:pid=\"A\" s:position=\"top\" s:x=\"5\" s:y=\"0\"/>\n",
       "    <g s:pid=\"B\" s:position=\"bottom\" s:x=\"5\" s:y=\"50\"/>\n",
       "  </g>\n",
       "  <g id=\"cell_X0\" s:height=\"32\" s:type=\"transistor_npn\" s:width=\"32\" transform=\"translate(88,113)\">\n",
       "    <s:alias val=\"q_npn\"/>\n",
       "    <text class=\"cell_X0\" s:attribute=\"ref\" x=\"35\" y=\"20\">X0</text>\n",
       "    <circle class=\"symbol cell_X0\" cx=\"16\" cy=\"16\" r=\"16\"/>\n",
       "    <path class=\"detail cell_X0\" d=\"M0,16 H12 M12,6 V26\"/>\n",
       "    <path class=\"detail cell_X0\" d=\"m12,10 11,-8\"/>\n",
       "    <path class=\"detail cell_X0\" d=\"m12,21 11,8\"/>\n",
       "    <path class=\"cell_X0\" d=\"m23,29 -6,-1 3,-5 z\" style=\"fill:#000000\"/>\n",
       "    <g s:pid=\"C\" s:position=\"top\" s:x=\"22\" s:y=\"2\"/>\n",
       "    <g s:pid=\"B\" s:position=\"left\" s:x=\"0\" s:y=\"16\"/>\n",
       "    <g s:pid=\"E\" s:position=\"bottom\" s:x=\"23\" s:y=\"29\"/>\n",
       "  </g>\n",
       "  <g id=\"cell_X1\" s:height=\"32\" s:type=\"transistor_npn\" s:width=\"32\" transform=\"translate(159,87)\">\n",
       "    <s:alias val=\"q_npn\"/>\n",
       "    <text class=\"cell_X1\" s:attribute=\"ref\" x=\"35\" y=\"20\">X1</text>\n",
       "    <circle class=\"symbol cell_X1\" cx=\"16\" cy=\"16\" r=\"16\"/>\n",
       "    <path class=\"detail cell_X1\" d=\"M0,16 H12 M12,6 V26\"/>\n",
       "    <path class=\"detail cell_X1\" d=\"m12,10 11,-8\"/>\n",
       "    <path class=\"detail cell_X1\" d=\"m12,21 11,8\"/>\n",
       "    <path class=\"cell_X1\" d=\"m23,29 -6,-1 3,-5 z\" style=\"fill:#000000\"/>\n",
       "    <g s:pid=\"C\" s:position=\"top\" s:x=\"22\" s:y=\"2\"/>\n",
       "    <g s:pid=\"B\" s:position=\"left\" s:x=\"0\" s:y=\"16\"/>\n",
       "    <g s:pid=\"E\" s:position=\"bottom\" s:x=\"23\" s:y=\"29\"/>\n",
       "  </g>\n",
       "  <g id=\"cell_gnd\" s:height=\"30\" s:type=\"gnd\" s:width=\"20\" transform=\"translate(45,250)\">\n",
       "    <s:alias val=\"gnd\"/>\n",
       "    <text class=\"nodelabel cell_gnd\" s:attribute=\"name\" x=\"30\" y=\"20\"/>\n",
       "    <path class=\"cell_gnd\" d=\"M0,0 H20 M3,5 H17 M7,10 H13 M10,0 V-15\"/>\n",
       "    <g s:pid=\"A\" s:position=\"top\" s:x=\"10\" s:y=\"-15\"/>\n",
       "  </g>\n",
       "  <line class=\"net_1\" x1=\"28\" x2=\"28\" y1=\"22\" y2=\"106\"/>\n",
       "  <line class=\"net_1\" x1=\"28\" x2=\"110\" y1=\"22\" y2=\"22\"/>\n",
       "  <circle class=\"net_1\" cx=\"110\" cy=\"22\" r=\"2\" style=\"fill:#000\"/>\n",
       "  <line class=\"net_1\" x1=\"110\" x2=\"110\" y1=\"22\" y2=\"43\"/>\n",
       "  <line class=\"net_1\" x1=\"28\" x2=\"181\" y1=\"22\" y2=\"22\"/>\n",
       "  <line class=\"net_1\" x1=\"181\" x2=\"181\" y1=\"22\" y2=\"32\"/>\n",
       "  <line class=\"net_5\" x1=\"55\" x2=\"55\" y1=\"48\" y2=\"163\"/>\n",
       "  <line class=\"net_5\" x1=\"55\" x2=\"71\" y1=\"48\" y2=\"48\"/>\n",
       "  <line class=\"net_5\" x1=\"71\" x2=\"71\" y1=\"48\" y2=\"58\"/>\n",
       "  <line class=\"net_3\" x1=\"111\" x2=\"111\" y1=\"142\" y2=\"165\"/>\n",
       "  <line class=\"net_3\" x1=\"182\" x2=\"182\" y1=\"116\" y2=\"155\"/>\n",
       "  <line class=\"net_3\" x1=\"182\" x2=\"111\" y1=\"155\" y2=\"155\"/>\n",
       "  <circle class=\"net_3\" cx=\"111\" cy=\"155\" r=\"2\" style=\"fill:#000\"/>\n",
       "  <line class=\"net_3\" x1=\"111\" x2=\"111\" y1=\"155\" y2=\"165\"/>\n",
       "  <line class=\"net_2\" x1=\"110\" x2=\"110\" y1=\"93\" y2=\"103\"/>\n",
       "  <circle class=\"net_2\" cx=\"110\" cy=\"103\" r=\"2\" style=\"fill:#000\"/>\n",
       "  <line class=\"net_2\" x1=\"110\" x2=\"159\" y1=\"103\" y2=\"103\"/>\n",
       "  <line class=\"net_2\" x1=\"159\" x2=\"110\" y1=\"103\" y2=\"103\"/>\n",
       "  <circle class=\"net_2\" cx=\"110\" cy=\"103\" r=\"2\" style=\"fill:#000\"/>\n",
       "  <line class=\"net_2\" x1=\"110\" x2=\"110\" y1=\"103\" y2=\"115\"/>\n",
       "  <line class=\"net_4\" x1=\"181\" x2=\"181\" y1=\"82\" y2=\"89\"/>\n",
       "  <line class=\"net_0\" x1=\"28\" x2=\"28\" y1=\"158\" y2=\"225\"/>\n",
       "  <line class=\"net_0\" x1=\"28\" x2=\"55\" y1=\"225\" y2=\"225\"/>\n",
       "  <circle class=\"net_0\" cx=\"55\" cy=\"225\" r=\"2\" style=\"fill:#000\"/>\n",
       "  <line class=\"net_0\" x1=\"55\" x2=\"55\" y1=\"225\" y2=\"235\"/>\n",
       "  <line class=\"net_0\" x1=\"55\" x2=\"55\" y1=\"215\" y2=\"235\"/>\n",
       "  <line class=\"net_0\" x1=\"111\" x2=\"111\" y1=\"215\" y2=\"225\"/>\n",
       "  <line class=\"net_0\" x1=\"111\" x2=\"55\" y1=\"225\" y2=\"225\"/>\n",
       "  <line class=\"net_0\" x1=\"55\" x2=\"55\" y1=\"225\" y2=\"235\"/>\n",
       "  <line class=\"net_6\" x1=\"71\" x2=\"71\" y1=\"108\" y2=\"129\"/>\n",
       "  <line class=\"net_6\" x1=\"71\" x2=\"88\" y1=\"129\" y2=\"129\"/>\n",
       "</svg>"
      ],
      "text/plain": [
       "<IPython.core.display.SVG object>"
      ]
     },
     "execution_count": 70,
     "metadata": {},
     "output_type": "execute_result"
    }
   ],
   "source": [
    "c = Circuit()\n",
    "\n",
    "RFTransistor = import_subcircuit(c, 'BFR181_spice_v2.txt', 'BFR181', 'collector', 'base', 'emitter', symbol='npn')\n",
    "\n",
    "dc = Voltage(c, voltage=5)\n",
    "in_signal = Voltage(c, voltage=5, sin=True, amplitude=4, freq=1e7)\n",
    "\n",
    "rmult = 0.5\n",
    "\n",
    "R1 = Resistor(c, resistance=4e3*rmult)\n",
    "Re = Resistor(c, resistance=1e3*rmult)\n",
    "R2 = Resistor(c, resistance=2.5e3*rmult)\n",
    "Rin = Resistor(c, resistance=1e3*rmult)\n",
    "\n",
    "t1 = RFTransistor(c)\n",
    "t2 = RFTransistor(c)\n",
    "\n",
    "connect(dc.pos, R1, R2)\n",
    "connect(R1, t1.collector, t2.base)\n",
    "connect(t1.emitter, t2.emitter, Re)\n",
    "out = connect(R2, t2.collector)\n",
    "connect(in_signal.pos, Rin)\n",
    "connect(Rin, t1.base)\n",
    "ground(Re, dc.neg, in_signal.neg)\n",
    "\n",
    "\n",
    "SVG(c.render_svg())"
   ]
  },
  {
   "cell_type": "code",
   "execution_count": 71,
   "metadata": {},
   "outputs": [
    {
     "name": "stdout",
     "output_type": "stream",
     "text": [
      "Ignoring node x0.2\n",
      "Ignoring node x0.3\n",
      "Ignoring node x0.1\n",
      "Ignoring node x0.30\n",
      "Ignoring node x0.20\n",
      "Ignoring node x1.2\n",
      "Ignoring node x1.3\n",
      "Ignoring node x1.1\n",
      "Ignoring node x1.30\n",
      "Ignoring node x1.20\n"
     ]
    },
    {
     "data": {
      "text/plain": [
       "[<matplotlib.lines.Line2D at 0x7fe60430b080>]"
      ]
     },
     "execution_count": 71,
     "metadata": {},
     "output_type": "execute_result"
    },
    {
     "data": {
      "image/png": "[encoded data removed]",
      "text/plain": [
       "<matplotlib.figure.Figure at 0x7fe60cb22a90>"
      ]
     },
     "metadata": {
      "needs_background": "light"
     },
     "output_type": "display_data"
    }
   ],
   "source": [
    "c.compute_transient(4e-7, 1e-9)\n",
    "plt.plot(c.time, in_signal.pos.voltage)\n",
    "plt.plot(c.time, out.voltage)"
   ]
  },
  {
   "cell_type": "code",
   "execution_count": 54,
   "metadata": {},
   "outputs": [
    {
     "name": "stdout",
     "output_type": "stream",
     "text": [
      "Ignoring node x0.2\n",
      "Ignoring node x0.3\n",
      "Ignoring node x0.1\n",
      "Ignoring node x0.30\n",
      "Ignoring node x0.20\n",
      "Ignoring node x1.2\n",
      "Ignoring node x1.3\n",
      "Ignoring node x1.1\n",
      "Ignoring node x1.30\n",
      "Ignoring node x1.20\n"
     ]
    },
    {
     "data": {
      "text/plain": [
       "[<matplotlib.lines.Line2D at 0x7fe6194e8080>]"
      ]
     },
     "execution_count": 54,
     "metadata": {},
     "output_type": "execute_result"
    },
    {
     "data": {
      "image/png": "[encoded data removed]",
      "text/plain": [
       "<matplotlib.figure.Figure at 0x7fe6193ab978>"
      ]
     },
     "metadata": {
      "needs_background": "light"
     },
     "output_type": "display_data"
    }
   ],
   "source": [
    "c.compute_transient(2e-7, 1e-9)\n",
    "plt.plot(c.time, in_signal.pos.voltage)\n",
    "plt.plot(c.time, out.voltage)"
   ]
  },
  {
   "cell_type": "code",
   "execution_count": 8,
   "metadata": {},
   "outputs": [
    {
     "data": {
      "image/svg+xml": [
       "<svg height=\"214\" width=\"127\" xmlns=\"http://www.w3.org/2000/svg\" xmlns:s=\"https://github.com/nturley/netlistsvg\" xmlns:xlink=\"http://www.w3.org/1999/xlink\">\n",
       "  <style>svg {\n",
       "    stroke: #000;\n",
       "    fill: none;\n",
       "  }\n",
       "  text {\n",
       "    fill: #000;\n",
       "    stroke: none;\n",
       "    font-size: 10px;\n",
       "    font-weight: bold;\n",
       "    font-family: &quot;Courier New&quot;, monospace;\n",
       "  }\n",
       "  .nodelabel {\n",
       "    text-anchor: middle;\n",
       "  }\n",
       "  .inputPortLabel {\n",
       "    text-anchor: end;\n",
       "  }\n",
       "  .splitjoinBody {\n",
       "    fill: #000;\n",
       "  }\n",
       "  .symbol {\n",
       "    stroke-linejoin: round;\n",
       "    stroke-linecap: round;\n",
       "    stroke-width: 2;\n",
       "  }\n",
       "  .detail {\n",
       "    stroke-linejoin: round;\n",
       "    stroke-linecap: round;\n",
       "    fill: #000;\n",
       "  }</style>\n",
       "  <g id=\"cell_V3\" s:height=\"52\" s:type=\"voltage_source\" s:width=\"32\" transform=\"translate(83,85)\">\n",
       "    <s:alias val=\"v\"/>\n",
       "    <text class=\"cell_V3\" s:attribute=\"ref\" x=\"35\" y=\"20\">V3</text>\n",
       "    <text class=\"cell_V3\" s:attribute=\"value\" x=\"35\" y=\"35\">1</text>\n",
       "    <circle class=\"symbol cell_V3\" cx=\"16\" cy=\"26\" r=\"16\"/>\n",
       "    <path class=\"detail cell_V3\" d=\"M16,10 V42\"/>\n",
       "    <path class=\"connect cell_V3\" d=\"M16,0 V10 M16,42 V52\"/>\n",
       "    <g s:pid=\"+\" s:position=\"top\" s:x=\"16\" s:y=\"0\"/>\n",
       "    <g s:pid=\"-\" s:position=\"bottom\" s:x=\"16\" s:y=\"52\"/>\n",
       "  </g>\n",
       "  <g id=\"cell_C1\" s:height=\"50\" s:type=\"capacitor_v\" s:width=\"30\" transform=\"translate(12,87)\">\n",
       "    <s:alias val=\"c_v\"/>\n",
       "    <text class=\"cell_C1\" s:attribute=\"ref\" x=\"25\" y=\"10\">C1</text>\n",
       "    <text class=\"cell_C1\" s:attribute=\"value\" x=\"25\" y=\"45\">0.0001</text>\n",
       "    <path class=\"symbol cell_C1\" d=\"M0,20 H30 M0,30 H30\"/>\n",
       "    <path class=\"connect cell_C1\" d=\"M15,0 V20 M15,30 V50\"/>\n",
       "    <g s:pid=\"A\" s:position=\"top\" s:x=\"15\" s:y=\"0\"/>\n",
       "    <g s:pid=\"B\" s:position=\"bottom\" s:x=\"15\" s:y=\"50\"/>\n",
       "  </g>\n",
       "  <g id=\"cell_R2\" s:height=\"50\" s:type=\"resistor_v\" s:width=\"10\" transform=\"translate(22,32)\">\n",
       "    <s:alias val=\"r_v\"/>\n",
       "    <text class=\"cell_R2\" s:attribute=\"ref\" x=\"15\" y=\"15\">R2</text>\n",
       "    <text class=\"cell_R2\" s:attribute=\"value\" x=\"15\" y=\"30\">10000.0</text>\n",
       "    <path class=\"symbol cell_R2\" d=\"M0,10 V40 H10 V10 Z\"/>\n",
       "    <path class=\"connect cell_R2\" d=\"M5,0 V10 M5,40 V50\"/>\n",
       "    <g s:pid=\"A\" s:position=\"top\" s:x=\"5\" s:y=\"0\"/>\n",
       "    <g s:pid=\"B\" s:position=\"bottom\" s:x=\"5\" s:y=\"50\"/>\n",
       "  </g>\n",
       "  <g id=\"cell_gnd\" s:height=\"30\" s:type=\"gnd\" s:width=\"20\" transform=\"translate(17,172)\">\n",
       "    <s:alias val=\"gnd\"/>\n",
       "    <text class=\"nodelabel cell_gnd\" s:attribute=\"name\" x=\"30\" y=\"20\"/>\n",
       "    <path class=\"cell_gnd\" d=\"M0,0 H20 M3,5 H17 M7,10 H13 M10,0 V-15\"/>\n",
       "    <g s:pid=\"A\" s:position=\"top\" s:x=\"10\" s:y=\"-15\"/>\n",
       "  </g>\n",
       "  <line class=\"net_1\" x1=\"27\" x2=\"99\" y1=\"22\" y2=\"22\"/>\n",
       "  <line class=\"net_1\" x1=\"99\" x2=\"99\" y1=\"22\" y2=\"85\"/>\n",
       "  <line class=\"net_1\" x1=\"27\" x2=\"27\" y1=\"22\" y2=\"32\"/>\n",
       "  <line class=\"net_2\" x1=\"27\" x2=\"27\" y1=\"82\" y2=\"87\"/>\n",
       "  <line class=\"net_0\" x1=\"99\" x2=\"99\" y1=\"137\" y2=\"147\"/>\n",
       "  <line class=\"net_0\" x1=\"99\" x2=\"27\" y1=\"147\" y2=\"147\"/>\n",
       "  <circle class=\"net_0\" cx=\"27\" cy=\"147\" r=\"2\" style=\"fill:#000\"/>\n",
       "  <line class=\"net_0\" x1=\"27\" x2=\"27\" y1=\"147\" y2=\"157\"/>\n",
       "  <line class=\"net_0\" x1=\"27\" x2=\"27\" y1=\"137\" y2=\"157\"/>\n",
       "</svg>"
      ],
      "text/plain": [
       "<IPython.core.display.SVG object>"
      ]
     },
     "execution_count": 8,
     "metadata": {},
     "output_type": "execute_result"
    }
   ],
   "source": [
    "c = Circuit()\n",
    "dc = Voltage(c, piecewise=[0,   0, \n",
    "                           0.1, 5.0,\n",
    "                           2.0, 0])\n",
    "c1 = Capacitor(c, capacitance=100e-6)\n",
    "r1 = Resistor(c, resistance=10e3)\n",
    "\n",
    "connect(dc.pos, r1)\n",
    "filt = connect(r1, c1)\n",
    "ground(dc.neg, c1)\n",
    "\n",
    "SVG(c.render_svg())"
   ]
  },
  {
   "cell_type": "code",
   "execution_count": 9,
   "metadata": {},
   "outputs": [
    {
     "data": {
      "text/plain": [
       "[<matplotlib.lines.Line2D at 0x7f73a5075ac8>]"
      ]
     },
     "execution_count": 9,
     "metadata": {},
     "output_type": "execute_result"
    },
    {
     "data": {
      "image/png": "[encoded data removed]",
      "text/plain": [
       "<matplotlib.figure.Figure at 0x7f73a494b0f0>"
      ]
     },
     "metadata": {
      "needs_background": "light"
     },
     "output_type": "display_data"
    }
   ],
   "source": [
    "c.compute_transient(5,0.1)\n",
    "plt.plot(c.time, filt.voltage)"
   ]
  },
  {
   "cell_type": "code",
   "execution_count": 10,
   "metadata": {},
   "outputs": [
    {
     "data": {
      "text/plain": [
       "[<matplotlib.lines.Line2D at 0x7f73a50394a8>]"
      ]
     },
     "execution_count": 10,
     "metadata": {},
     "output_type": "execute_result"
    },
    {
     "data": {
      "image/png": "[encoded data removed]",
      "text/plain": [
       "<matplotlib.figure.Figure at 0x7f73a5053b70>"
      ]
     },
     "metadata": {
      "needs_background": "light"
     },
     "output_type": "display_data"
    }
   ],
   "source": [
    "plt.plot(c.time, dc.current) "
   ]
  },
  {
   "cell_type": "code",
   "execution_count": 6,
   "metadata": {},
   "outputs": [],
   "source": [
    "c = Circuit()\n",
    "dc = Voltage(c, voltage=2)\n",
    "r1 = Resistor(c, resistance=100)\n",
    "r2 = Resistor(c, resistance=200)\n",
    "r3 = Resistor(c, resistance=200)\n",
    "\n",
    "ground(dc.neg, r2, r3)\n",
    "connect(dc.pos, r1)\n",
    "div = connect(r1, r2, r3)"
   ]
  },
  {
   "cell_type": "code",
   "execution_count": 7,
   "metadata": {},
   "outputs": [
    {
     "data": {
      "image/svg+xml": [
       "<svg height=\"186\" width=\"166\" xmlns=\"http://www.w3.org/2000/svg\" xmlns:s=\"https://github.com/nturley/netlistsvg\" xmlns:xlink=\"http://www.w3.org/1999/xlink\">\n",
       "  <style>svg {\n",
       "    stroke: #000;\n",
       "    fill: none;\n",
       "  }\n",
       "  text {\n",
       "    fill: #000;\n",
       "    stroke: none;\n",
       "    font-size: 10px;\n",
       "    font-weight: bold;\n",
       "    font-family: &quot;Courier New&quot;, monospace;\n",
       "  }\n",
       "  .nodelabel {\n",
       "    text-anchor: middle;\n",
       "  }\n",
       "  .inputPortLabel {\n",
       "    text-anchor: end;\n",
       "  }\n",
       "  .splitjoinBody {\n",
       "    fill: #000;\n",
       "  }\n",
       "  .symbol {\n",
       "    stroke-linejoin: round;\n",
       "    stroke-linecap: round;\n",
       "    stroke-width: 2;\n",
       "  }\n",
       "  .detail {\n",
       "    stroke-linejoin: round;\n",
       "    stroke-linecap: round;\n",
       "    fill: #000;\n",
       "  }</style>\n",
       "  <g id=\"cell_V2\" s:height=\"52\" s:type=\"voltage_source\" s:width=\"32\" transform=\"translate(70,32)\">\n",
       "    <s:alias val=\"v\"/>\n",
       "    <text class=\"cell_V2\" s:attribute=\"ref\" x=\"35\" y=\"20\">V2</text>\n",
       "    <text class=\"cell_V2\" s:attribute=\"value\" x=\"35\" y=\"35\">2</text>\n",
       "    <circle class=\"symbol cell_V2\" cx=\"16\" cy=\"26\" r=\"16\"/>\n",
       "    <path class=\"detail cell_V2\" d=\"M16,10 V42\"/>\n",
       "    <path class=\"connect cell_V2\" d=\"M16,0 V10 M16,42 V52\"/>\n",
       "    <g s:pid=\"+\" s:position=\"top\" s:x=\"16\" s:y=\"0\"/>\n",
       "    <g s:pid=\"-\" s:position=\"bottom\" s:x=\"16\" s:y=\"52\"/>\n",
       "  </g>\n",
       "  <g id=\"cell_R1\" s:height=\"50\" s:type=\"resistor_v\" s:width=\"10\" transform=\"translate(12,34)\">\n",
       "    <s:alias val=\"r_v\"/>\n",
       "    <text class=\"cell_R1\" s:attribute=\"ref\" x=\"15\" y=\"15\">R1</text>\n",
       "    <text class=\"cell_R1\" s:attribute=\"value\" x=\"15\" y=\"30\">100</text>\n",
       "    <path class=\"symbol cell_R1\" d=\"M0,10 V40 H10 V10 Z\"/>\n",
       "    <path class=\"connect cell_R1\" d=\"M5,0 V10 M5,40 V50\"/>\n",
       "    <g s:pid=\"A\" s:position=\"top\" s:x=\"5\" s:y=\"0\"/>\n",
       "    <g s:pid=\"B\" s:position=\"bottom\" s:x=\"5\" s:y=\"50\"/>\n",
       "  </g>\n",
       "  <g id=\"cell_R2\" s:height=\"50\" s:type=\"resistor_v\" s:width=\"10\" transform=\"translate(81,104)\">\n",
       "    <s:alias val=\"r_v\"/>\n",
       "    <text class=\"cell_R2\" s:attribute=\"ref\" x=\"15\" y=\"15\">R2</text>\n",
       "    <text class=\"cell_R2\" s:attribute=\"value\" x=\"15\" y=\"30\">200</text>\n",
       "    <path class=\"symbol cell_R2\" d=\"M0,10 V40 H10 V10 Z\"/>\n",
       "    <path class=\"connect cell_R2\" d=\"M5,0 V10 M5,40 V50\"/>\n",
       "    <g s:pid=\"A\" s:position=\"top\" s:x=\"5\" s:y=\"0\"/>\n",
       "    <g s:pid=\"B\" s:position=\"bottom\" s:x=\"5\" s:y=\"50\"/>\n",
       "  </g>\n",
       "  <g id=\"cell_R3\" s:height=\"50\" s:type=\"resistor_v\" s:width=\"10\" transform=\"translate(28,104)\">\n",
       "    <s:alias val=\"r_v\"/>\n",
       "    <text class=\"cell_R3\" s:attribute=\"ref\" x=\"15\" y=\"15\">R3</text>\n",
       "    <text class=\"cell_R3\" s:attribute=\"value\" x=\"15\" y=\"30\">200</text>\n",
       "    <path class=\"symbol cell_R3\" d=\"M0,10 V40 H10 V10 Z\"/>\n",
       "    <path class=\"connect cell_R3\" d=\"M5,0 V10 M5,40 V50\"/>\n",
       "    <g s:pid=\"A\" s:position=\"top\" s:x=\"5\" s:y=\"0\"/>\n",
       "    <g s:pid=\"B\" s:position=\"bottom\" s:x=\"5\" s:y=\"50\"/>\n",
       "  </g>\n",
       "  <g id=\"cell_gnd\" s:height=\"30\" s:type=\"gnd\" s:width=\"20\" transform=\"translate(134,119)\">\n",
       "    <s:alias val=\"gnd\"/>\n",
       "    <text class=\"nodelabel cell_gnd\" s:attribute=\"name\" x=\"30\" y=\"20\"/>\n",
       "    <path class=\"cell_gnd\" d=\"M0,0 H20 M3,5 H17 M7,10 H13 M10,0 V-15\"/>\n",
       "    <g s:pid=\"A\" s:position=\"top\" s:x=\"10\" s:y=\"-15\"/>\n",
       "  </g>\n",
       "  <line class=\"net_1\" x1=\"17\" x2=\"86\" y1=\"22\" y2=\"22\"/>\n",
       "  <line class=\"net_1\" x1=\"86\" x2=\"86\" y1=\"22\" y2=\"32\"/>\n",
       "  <line class=\"net_1\" x1=\"17\" x2=\"17\" y1=\"22\" y2=\"34\"/>\n",
       "  <line class=\"net_0\" x1=\"86\" x2=\"86\" y1=\"84\" y2=\"104\"/>\n",
       "  <line class=\"net_0\" x1=\"86\" x2=\"86\" y1=\"84\" y2=\"94\"/>\n",
       "  <line class=\"net_0\" x1=\"86\" x2=\"33\" y1=\"94\" y2=\"94\"/>\n",
       "  <circle class=\"net_0\" cx=\"86\" cy=\"94\" r=\"2\" style=\"fill:#000\"/>\n",
       "  <line class=\"net_0\" x1=\"33\" x2=\"33\" y1=\"94\" y2=\"104\"/>\n",
       "  <line class=\"net_0\" x1=\"86\" x2=\"86\" y1=\"84\" y2=\"94\"/>\n",
       "  <line class=\"net_0\" x1=\"86\" x2=\"144\" y1=\"94\" y2=\"94\"/>\n",
       "  <line class=\"net_0\" x1=\"144\" x2=\"144\" y1=\"94\" y2=\"104\"/>\n",
       "  <line class=\"net_2\" x1=\"17\" x2=\"17\" y1=\"84\" y2=\"164\"/>\n",
       "  <line class=\"net_2\" x1=\"86\" x2=\"86\" y1=\"154\" y2=\"164\"/>\n",
       "  <line class=\"net_2\" x1=\"86\" x2=\"17\" y1=\"164\" y2=\"164\"/>\n",
       "  <line class=\"net_2\" x1=\"33\" x2=\"33\" y1=\"154\" y2=\"164\"/>\n",
       "  <circle class=\"net_2\" cx=\"33\" cy=\"164\" r=\"2\" style=\"fill:#000\"/>\n",
       "  <line class=\"net_2\" x1=\"33\" x2=\"17\" y1=\"164\" y2=\"164\"/>\n",
       "</svg>"
      ],
      "text/plain": [
       "<IPython.core.display.SVG object>"
      ]
     },
     "execution_count": 7,
     "metadata": {},
     "output_type": "execute_result"
    }
   ],
   "source": [
    "SVG(c.render_svg())"
   ]
  },
  {
   "cell_type": "code",
   "execution_count": 8,
   "metadata": {},
   "outputs": [
    {
     "name": "stdout",
     "output_type": "stream",
     "text": [
      "1.0\n"
     ]
    }
   ],
   "source": [
    "c.compute_operating_point()\n",
    "print(div.voltage)"
   ]
  },
  {
   "cell_type": "code",
   "execution_count": 9,
   "metadata": {},
   "outputs": [
    {
     "name": "stdout",
     "output_type": "stream",
     "text": [
      "Ignoring node v-sweep [0.  0.5 1. ]\n",
      "[0.   0.25 0.5 ]\n"
     ]
    }
   ],
   "source": [
    "c.compute_dc_sweep((dc, 0, 1, 0.5))\n",
    "print(div.voltage)"
   ]
  },
  {
   "cell_type": "code",
   "execution_count": null,
   "metadata": {},
   "outputs": [],
   "source": []
  }
 ],
 "metadata": {
  "kernelspec": {
   "display_name": "Python 3",
   "language": "python",
   "name": "python3"
  },
  "language_info": {
   "codemirror_mode": {
    "name": "ipython",
    "version": 3
   },
   "file_extension": ".py",
   "mimetype": "text/x-python",
   "name": "python",
   "nbconvert_exporter": "python",
   "pygments_lexer": "ipython3",
   "version": "3.6.8"
  }
 },
 "nbformat": 4,
 "nbformat_minor": 4
}
