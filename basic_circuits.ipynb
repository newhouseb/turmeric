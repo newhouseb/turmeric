{
 "cells": [
  {
   "cell_type": "code",
   "execution_count": 1,
   "metadata": {},
   "outputs": [],
   "source": [
    "from main import Circuit, Voltage, Capacitor, Resistor, connect, ground\n",
    "from IPython.display import SVG\n",
    "from matplotlib import pyplot as plt"
   ]
  },
  {
   "cell_type": "code",
   "execution_count": 2,
   "metadata": {},
   "outputs": [
    {
     "data": {
      "image/svg+xml": [
       "<svg height=\"214\" width=\"127\" xmlns=\"http://www.w3.org/2000/svg\" xmlns:s=\"https://github.com/nturley/netlistsvg\" xmlns:xlink=\"http://www.w3.org/1999/xlink\">\n",
       "  <style>svg {\n",
       "    stroke: #000;\n",
       "    fill: none;\n",
       "  }\n",
       "  text {\n",
       "    fill: #000;\n",
       "    stroke: none;\n",
       "    font-size: 10px;\n",
       "    font-weight: bold;\n",
       "    font-family: &quot;Courier New&quot;, monospace;\n",
       "  }\n",
       "  .nodelabel {\n",
       "    text-anchor: middle;\n",
       "  }\n",
       "  .inputPortLabel {\n",
       "    text-anchor: end;\n",
       "  }\n",
       "  .splitjoinBody {\n",
       "    fill: #000;\n",
       "  }\n",
       "  .symbol {\n",
       "    stroke-linejoin: round;\n",
       "    stroke-linecap: round;\n",
       "    stroke-width: 2;\n",
       "  }\n",
       "  .detail {\n",
       "    stroke-linejoin: round;\n",
       "    stroke-linecap: round;\n",
       "    fill: #000;\n",
       "  }</style>\n",
       "  <g id=\"cell_V0\" s:height=\"52\" s:type=\"voltage_source\" s:width=\"32\" transform=\"translate(83,85)\">\n",
       "    <s:alias val=\"v\"/>\n",
       "    <text class=\"cell_V0\" s:attribute=\"ref\" x=\"35\" y=\"20\">V0</text>\n",
       "    <text class=\"cell_V0\" s:attribute=\"value\" x=\"35\" y=\"35\">1</text>\n",
       "    <circle class=\"symbol cell_V0\" cx=\"16\" cy=\"26\" r=\"16\"/>\n",
       "    <path class=\"detail cell_V0\" d=\"M16,10 V42\"/>\n",
       "    <path class=\"connect cell_V0\" d=\"M16,0 V10 M16,42 V52\"/>\n",
       "    <g s:pid=\"+\" s:position=\"top\" s:x=\"16\" s:y=\"0\"/>\n",
       "    <g s:pid=\"-\" s:position=\"bottom\" s:x=\"16\" s:y=\"52\"/>\n",
       "  </g>\n",
       "  <g id=\"cell_C0\" s:height=\"50\" s:type=\"capacitor_v\" s:width=\"30\" transform=\"translate(12,87)\">\n",
       "    <s:alias val=\"c_v\"/>\n",
       "    <text class=\"cell_C0\" s:attribute=\"ref\" x=\"25\" y=\"10\">C0</text>\n",
       "    <text class=\"cell_C0\" s:attribute=\"value\" x=\"25\" y=\"45\">0.0001</text>\n",
       "    <path class=\"symbol cell_C0\" d=\"M0,20 H30 M0,30 H30\"/>\n",
       "    <path class=\"connect cell_C0\" d=\"M15,0 V20 M15,30 V50\"/>\n",
       "    <g s:pid=\"A\" s:position=\"top\" s:x=\"15\" s:y=\"0\"/>\n",
       "    <g s:pid=\"B\" s:position=\"bottom\" s:x=\"15\" s:y=\"50\"/>\n",
       "  </g>\n",
       "  <g id=\"cell_R0\" s:height=\"50\" s:type=\"resistor_v\" s:width=\"10\" transform=\"translate(22,32)\">\n",
       "    <s:alias val=\"r_v\"/>\n",
       "    <text class=\"cell_R0\" s:attribute=\"ref\" x=\"15\" y=\"15\">R0</text>\n",
       "    <text class=\"cell_R0\" s:attribute=\"value\" x=\"15\" y=\"30\">10000.0</text>\n",
       "    <path class=\"symbol cell_R0\" d=\"M0,10 V40 H10 V10 Z\"/>\n",
       "    <path class=\"connect cell_R0\" d=\"M5,0 V10 M5,40 V50\"/>\n",
       "    <g s:pid=\"A\" s:position=\"top\" s:x=\"5\" s:y=\"0\"/>\n",
       "    <g s:pid=\"B\" s:position=\"bottom\" s:x=\"5\" s:y=\"50\"/>\n",
       "  </g>\n",
       "  <g id=\"cell_gnd\" s:height=\"30\" s:type=\"gnd\" s:width=\"20\" transform=\"translate(17,172)\">\n",
       "    <s:alias val=\"gnd\"/>\n",
       "    <text class=\"nodelabel cell_gnd\" s:attribute=\"name\" x=\"30\" y=\"20\"/>\n",
       "    <path class=\"cell_gnd\" d=\"M0,0 H20 M3,5 H17 M7,10 H13 M10,0 V-15\"/>\n",
       "    <g s:pid=\"A\" s:position=\"top\" s:x=\"10\" s:y=\"-15\"/>\n",
       "  </g>\n",
       "  <line class=\"net_1\" x1=\"27\" x2=\"99\" y1=\"22\" y2=\"22\"/>\n",
       "  <line class=\"net_1\" x1=\"99\" x2=\"99\" y1=\"22\" y2=\"85\"/>\n",
       "  <line class=\"net_1\" x1=\"27\" x2=\"27\" y1=\"22\" y2=\"32\"/>\n",
       "  <line class=\"net_2\" x1=\"27\" x2=\"27\" y1=\"82\" y2=\"87\"/>\n",
       "  <line class=\"net_0\" x1=\"99\" x2=\"99\" y1=\"137\" y2=\"147\"/>\n",
       "  <line class=\"net_0\" x1=\"99\" x2=\"27\" y1=\"147\" y2=\"147\"/>\n",
       "  <circle class=\"net_0\" cx=\"27\" cy=\"147\" r=\"2\" style=\"fill:#000\"/>\n",
       "  <line class=\"net_0\" x1=\"27\" x2=\"27\" y1=\"147\" y2=\"157\"/>\n",
       "  <line class=\"net_0\" x1=\"27\" x2=\"27\" y1=\"137\" y2=\"157\"/>\n",
       "</svg>"
      ],
      "text/plain": [
       "<IPython.core.display.SVG object>"
      ]
     },
     "execution_count": 2,
     "metadata": {},
     "output_type": "execute_result"
    }
   ],
   "source": [
    "c = Circuit()\n",
    "dc = Voltage(c, piecewise=[0,   0, \n",
    "                           0.1, 5.0])\n",
    "c1 = Capacitor(c, capacitance=100e-6)\n",
    "r1 = Resistor(c, resistance=10e3)\n",
    "\n",
    "connect(dc.pos, r1)\n",
    "filt = connect(r1, c1)\n",
    "ground(dc.neg, c1)\n",
    "\n",
    "SVG(c.render_svg())"
   ]
  },
  {
   "cell_type": "code",
   "execution_count": 3,
   "metadata": {},
   "outputs": [
    {
     "name": "stdout",
     "output_type": "stream",
     "text": [
      "Ignoring type i\n"
     ]
    },
    {
     "data": {
      "text/plain": [
       "[<matplotlib.lines.Line2D at 0x7fa2d0938400>]"
      ]
     },
     "execution_count": 3,
     "metadata": {},
     "output_type": "execute_result"
    },
    {
     "data": {
      "image/png": "[encoded data removed]",
      "text/plain": [
       "<matplotlib.figure.Figure at 0x7fa2ae216470>"
      ]
     },
     "metadata": {
      "needs_background": "light"
     },
     "output_type": "display_data"
    }
   ],
   "source": [
    "c.compute_transient(5,0.1)\n",
    "plt.plot(c.time, filt.voltage) "
   ]
  },
  {
   "cell_type": "code",
   "execution_count": 4,
   "metadata": {},
   "outputs": [],
   "source": [
    "c = Circuit()\n",
    "dc = Voltage(c, voltage=2)\n",
    "r1 = Resistor(c, resistance=100)\n",
    "r2 = Resistor(c, resistance=200)\n",
    "r3 = Resistor(c, resistance=200)\n",
    "\n",
    "ground(dc.neg, r2, r3)\n",
    "connect(dc.pos, r1)\n",
    "div = connect(r1, r2, r3)"
   ]
  },
  {
   "cell_type": "code",
   "execution_count": 5,
   "metadata": {},
   "outputs": [
    {
     "name": "stdout",
     "output_type": "stream",
     "text": [
      "Ignoring type i\n",
      "1.0\n"
     ]
    }
   ],
   "source": [
    "c.compute_operating_point()\n",
    "print(div.voltage)"
   ]
  },
  {
   "cell_type": "code",
   "execution_count": 6,
   "metadata": {},
   "outputs": [
    {
     "name": "stdout",
     "output_type": "stream",
     "text": [
      "Ignoring node v-sweep [0.  0.5 1. ]\n",
      "Ignoring type i\n",
      "[0.   0.25 0.5 ]\n"
     ]
    }
   ],
   "source": [
    "c.compute_dc_sweep((dc, 0, 1, 0.5))\n",
    "print(div.voltage)"
   ]
  },
  {
   "cell_type": "code",
   "execution_count": 7,
   "metadata": {},
   "outputs": [
    {
     "data": {
      "image/svg+xml": [
       "<svg height=\"186\" width=\"166\" xmlns=\"http://www.w3.org/2000/svg\" xmlns:s=\"https://github.com/nturley/netlistsvg\" xmlns:xlink=\"http://www.w3.org/1999/xlink\">\n",
       "  <style>svg {\n",
       "    stroke: #000;\n",
       "    fill: none;\n",
       "  }\n",
       "  text {\n",
       "    fill: #000;\n",
       "    stroke: none;\n",
       "    font-size: 10px;\n",
       "    font-weight: bold;\n",
       "    font-family: &quot;Courier New&quot;, monospace;\n",
       "  }\n",
       "  .nodelabel {\n",
       "    text-anchor: middle;\n",
       "  }\n",
       "  .inputPortLabel {\n",
       "    text-anchor: end;\n",
       "  }\n",
       "  .splitjoinBody {\n",
       "    fill: #000;\n",
       "  }\n",
       "  .symbol {\n",
       "    stroke-linejoin: round;\n",
       "    stroke-linecap: round;\n",
       "    stroke-width: 2;\n",
       "  }\n",
       "  .detail {\n",
       "    stroke-linejoin: round;\n",
       "    stroke-linecap: round;\n",
       "    fill: #000;\n",
       "  }</style>\n",
       "  <g id=\"cell_V1\" s:height=\"52\" s:type=\"voltage_source\" s:width=\"32\" transform=\"translate(70,32)\">\n",
       "    <s:alias val=\"v\"/>\n",
       "    <text class=\"cell_V1\" s:attribute=\"ref\" x=\"35\" y=\"20\">V1</text>\n",
       "    <text class=\"cell_V1\" s:attribute=\"value\" x=\"35\" y=\"35\">2</text>\n",
       "    <circle class=\"symbol cell_V1\" cx=\"16\" cy=\"26\" r=\"16\"/>\n",
       "    <path class=\"detail cell_V1\" d=\"M16,10 V42\"/>\n",
       "    <path class=\"connect cell_V1\" d=\"M16,0 V10 M16,42 V52\"/>\n",
       "    <g s:pid=\"+\" s:position=\"top\" s:x=\"16\" s:y=\"0\"/>\n",
       "    <g s:pid=\"-\" s:position=\"bottom\" s:x=\"16\" s:y=\"52\"/>\n",
       "  </g>\n",
       "  <g id=\"cell_R1\" s:height=\"50\" s:type=\"resistor_v\" s:width=\"10\" transform=\"translate(12,34)\">\n",
       "    <s:alias val=\"r_v\"/>\n",
       "    <text class=\"cell_R1\" s:attribute=\"ref\" x=\"15\" y=\"15\">R1</text>\n",
       "    <text class=\"cell_R1\" s:attribute=\"value\" x=\"15\" y=\"30\">100</text>\n",
       "    <path class=\"symbol cell_R1\" d=\"M0,10 V40 H10 V10 Z\"/>\n",
       "    <path class=\"connect cell_R1\" d=\"M5,0 V10 M5,40 V50\"/>\n",
       "    <g s:pid=\"A\" s:position=\"top\" s:x=\"5\" s:y=\"0\"/>\n",
       "    <g s:pid=\"B\" s:position=\"bottom\" s:x=\"5\" s:y=\"50\"/>\n",
       "  </g>\n",
       "  <g id=\"cell_R2\" s:height=\"50\" s:type=\"resistor_v\" s:width=\"10\" transform=\"translate(81,104)\">\n",
       "    <s:alias val=\"r_v\"/>\n",
       "    <text class=\"cell_R2\" s:attribute=\"ref\" x=\"15\" y=\"15\">R2</text>\n",
       "    <text class=\"cell_R2\" s:attribute=\"value\" x=\"15\" y=\"30\">200</text>\n",
       "    <path class=\"symbol cell_R2\" d=\"M0,10 V40 H10 V10 Z\"/>\n",
       "    <path class=\"connect cell_R2\" d=\"M5,0 V10 M5,40 V50\"/>\n",
       "    <g s:pid=\"A\" s:position=\"top\" s:x=\"5\" s:y=\"0\"/>\n",
       "    <g s:pid=\"B\" s:position=\"bottom\" s:x=\"5\" s:y=\"50\"/>\n",
       "  </g>\n",
       "  <g id=\"cell_R3\" s:height=\"50\" s:type=\"resistor_v\" s:width=\"10\" transform=\"translate(28,104)\">\n",
       "    <s:alias val=\"r_v\"/>\n",
       "    <text class=\"cell_R3\" s:attribute=\"ref\" x=\"15\" y=\"15\">R3</text>\n",
       "    <text class=\"cell_R3\" s:attribute=\"value\" x=\"15\" y=\"30\">200</text>\n",
       "    <path class=\"symbol cell_R3\" d=\"M0,10 V40 H10 V10 Z\"/>\n",
       "    <path class=\"connect cell_R3\" d=\"M5,0 V10 M5,40 V50\"/>\n",
       "    <g s:pid=\"A\" s:position=\"top\" s:x=\"5\" s:y=\"0\"/>\n",
       "    <g s:pid=\"B\" s:position=\"bottom\" s:x=\"5\" s:y=\"50\"/>\n",
       "  </g>\n",
       "  <g id=\"cell_gnd\" s:height=\"30\" s:type=\"gnd\" s:width=\"20\" transform=\"translate(134,119)\">\n",
       "    <s:alias val=\"gnd\"/>\n",
       "    <text class=\"nodelabel cell_gnd\" s:attribute=\"name\" x=\"30\" y=\"20\"/>\n",
       "    <path class=\"cell_gnd\" d=\"M0,0 H20 M3,5 H17 M7,10 H13 M10,0 V-15\"/>\n",
       "    <g s:pid=\"A\" s:position=\"top\" s:x=\"10\" s:y=\"-15\"/>\n",
       "  </g>\n",
       "  <line class=\"net_1\" x1=\"17\" x2=\"86\" y1=\"22\" y2=\"22\"/>\n",
       "  <line class=\"net_1\" x1=\"86\" x2=\"86\" y1=\"22\" y2=\"32\"/>\n",
       "  <line class=\"net_1\" x1=\"17\" x2=\"17\" y1=\"22\" y2=\"34\"/>\n",
       "  <line class=\"net_0\" x1=\"86\" x2=\"86\" y1=\"84\" y2=\"104\"/>\n",
       "  <line class=\"net_0\" x1=\"86\" x2=\"86\" y1=\"84\" y2=\"94\"/>\n",
       "  <line class=\"net_0\" x1=\"86\" x2=\"33\" y1=\"94\" y2=\"94\"/>\n",
       "  <circle class=\"net_0\" cx=\"86\" cy=\"94\" r=\"2\" style=\"fill:#000\"/>\n",
       "  <line class=\"net_0\" x1=\"33\" x2=\"33\" y1=\"94\" y2=\"104\"/>\n",
       "  <line class=\"net_0\" x1=\"86\" x2=\"86\" y1=\"84\" y2=\"94\"/>\n",
       "  <line class=\"net_0\" x1=\"86\" x2=\"144\" y1=\"94\" y2=\"94\"/>\n",
       "  <line class=\"net_0\" x1=\"144\" x2=\"144\" y1=\"94\" y2=\"104\"/>\n",
       "  <line class=\"net_2\" x1=\"17\" x2=\"17\" y1=\"84\" y2=\"164\"/>\n",
       "  <line class=\"net_2\" x1=\"86\" x2=\"86\" y1=\"154\" y2=\"164\"/>\n",
       "  <line class=\"net_2\" x1=\"86\" x2=\"17\" y1=\"164\" y2=\"164\"/>\n",
       "  <line class=\"net_2\" x1=\"33\" x2=\"33\" y1=\"154\" y2=\"164\"/>\n",
       "  <circle class=\"net_2\" cx=\"33\" cy=\"164\" r=\"2\" style=\"fill:#000\"/>\n",
       "  <line class=\"net_2\" x1=\"33\" x2=\"17\" y1=\"164\" y2=\"164\"/>\n",
       "</svg>"
      ],
      "text/plain": [
       "<IPython.core.display.SVG object>"
      ]
     },
     "execution_count": 7,
     "metadata": {},
     "output_type": "execute_result"
    }
   ],
   "source": [
    "SVG(c.render_svg())"
   ]
  },
  {
   "cell_type": "code",
   "execution_count": null,
   "metadata": {},
   "outputs": [],
   "source": []
  }
 ],
 "metadata": {
  "kernelspec": {
   "display_name": "Python 3",
   "language": "python",
   "name": "python3"
  },
  "language_info": {
   "codemirror_mode": {
    "name": "ipython",
    "version": 3
   },
   "file_extension": ".py",
   "mimetype": "text/x-python",
   "name": "python",
   "nbconvert_exporter": "python",
   "pygments_lexer": "ipython3",
   "version": "3.6.8"
  }
 },
 "nbformat": 4,
 "nbformat_minor": 4
}
